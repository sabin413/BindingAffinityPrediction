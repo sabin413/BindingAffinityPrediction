{
 "cells": [
  {
   "cell_type": "markdown",
   "id": "ef67a463",
   "metadata": {},
   "source": [
    "#### Generates the final dataframe for ML"
   ]
  },
  {
   "cell_type": "code",
   "execution_count": 7,
   "id": "4eda06f6",
   "metadata": {},
   "outputs": [],
   "source": [
    "import pandas as pd"
   ]
  },
  {
   "cell_type": "code",
   "execution_count": 8,
   "id": "cd879958",
   "metadata": {},
   "outputs": [],
   "source": [
    "df_lig = pd.read_csv('ligand_vecs.csv')\n",
    "df_prot = pd.read_csv('protein_vecs.csv')"
   ]
  },
  {
   "cell_type": "code",
   "execution_count": 9,
   "id": "f2d4d559",
   "metadata": {},
   "outputs": [
    {
     "name": "stdout",
     "output_type": "stream",
     "text": [
      "<class 'pandas.core.frame.DataFrame'>\n",
      "RangeIndex: 21879 entries, 0 to 21878\n",
      "Columns: 2506 entries, ligand_vec0 to kd\n",
      "dtypes: float64(2506)\n",
      "memory usage: 418.3 MB\n"
     ]
    }
   ],
   "source": [
    "df_final = pd.concat([df_lig, df_prot], axis = 1)\n",
    "df_final.info()\n",
    "#df_final.head()"
   ]
  },
  {
   "cell_type": "code",
   "execution_count": 10,
   "id": "429aec12",
   "metadata": {},
   "outputs": [
    {
     "data": {
      "text/plain": [
       "ligand_vec0             10425\n",
       "ligand_vec1             10425\n",
       "ligand_vec2             10425\n",
       "ligand_vec3             10425\n",
       "ligand_vec4             10425\n",
       "                        ...  \n",
       "protein_feature_2302        0\n",
       "protein_feature_2303        0\n",
       "protein_feature_2304        0\n",
       "protein_feature_2305        0\n",
       "kd                          0\n",
       "Length: 2506, dtype: int64"
      ]
     },
     "execution_count": 10,
     "metadata": {},
     "output_type": "execute_result"
    }
   ],
   "source": [
    "df_final.isnull().sum()"
   ]
  },
  {
   "cell_type": "code",
   "execution_count": 11,
   "id": "e2d665bd",
   "metadata": {},
   "outputs": [
    {
     "name": "stdout",
     "output_type": "stream",
     "text": [
      "(11450, 2506)\n"
     ]
    },
    {
     "data": {
      "text/plain": [
       "ligand_vec0             0\n",
       "ligand_vec1             0\n",
       "ligand_vec2             0\n",
       "ligand_vec3             0\n",
       "ligand_vec4             0\n",
       "                       ..\n",
       "protein_feature_2302    0\n",
       "protein_feature_2303    0\n",
       "protein_feature_2304    0\n",
       "protein_feature_2305    0\n",
       "kd                      0\n",
       "Length: 2506, dtype: int64"
      ]
     },
     "execution_count": 11,
     "metadata": {},
     "output_type": "execute_result"
    }
   ],
   "source": [
    "df_final = df_final.dropna().reset_index(drop = True)\n",
    "print(df_final.shape)\n",
    "df_final.isnull().sum()"
   ]
  },
  {
   "cell_type": "code",
   "execution_count": 12,
   "id": "2654101f",
   "metadata": {},
   "outputs": [],
   "source": [
    "# removed all the null entries due to unidentifiable cid values while converting cid values into smile strings\n",
    "df_final.to_csv(\"df_ligand_protein_ml.csv\", index = False)"
   ]
  },
  {
   "cell_type": "code",
   "execution_count": null,
   "id": "982c7d7a",
   "metadata": {},
   "outputs": [],
   "source": []
  }
 ],
 "metadata": {
  "kernelspec": {
   "display_name": "Python 3 (ipykernel)",
   "language": "python",
   "name": "python3"
  },
  "language_info": {
   "codemirror_mode": {
    "name": "ipython",
    "version": 3
   },
   "file_extension": ".py",
   "mimetype": "text/x-python",
   "name": "python",
   "nbconvert_exporter": "python",
   "pygments_lexer": "ipython3",
   "version": "3.9.16"
  }
 },
 "nbformat": 4,
 "nbformat_minor": 5
}
