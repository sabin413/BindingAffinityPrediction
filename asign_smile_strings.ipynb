{
 "cells": [
  {
   "cell_type": "code",
   "execution_count": 1,
   "id": "4fc3d6c0",
   "metadata": {},
   "outputs": [],
   "source": [
    "import pandas as pd\n",
    "import numpy as np\n",
    "import pubchempy as pcp"
   ]
  },
  {
   "cell_type": "code",
   "execution_count": 2,
   "id": "f19d2792",
   "metadata": {},
   "outputs": [
    {
     "data": {
      "text/html": [
       "<div>\n",
       "<style scoped>\n",
       "    .dataframe tbody tr th:only-of-type {\n",
       "        vertical-align: middle;\n",
       "    }\n",
       "\n",
       "    .dataframe tbody tr th {\n",
       "        vertical-align: top;\n",
       "    }\n",
       "\n",
       "    .dataframe thead th {\n",
       "        text-align: right;\n",
       "    }\n",
       "</style>\n",
       "<table border=\"1\" class=\"dataframe\">\n",
       "  <thead>\n",
       "    <tr style=\"text-align: right;\">\n",
       "      <th></th>\n",
       "      <th>protein_seq</th>\n",
       "      <th>ligand_cid</th>\n",
       "      <th>kd</th>\n",
       "    </tr>\n",
       "  </thead>\n",
       "  <tbody>\n",
       "    <tr>\n",
       "      <th>0</th>\n",
       "      <td>MVRSVAWAGFMVLLMIPWGSAAKLVCYFTNWAQYRQGEARFLPKDL...</td>\n",
       "      <td>46511426.0</td>\n",
       "      <td>0.0</td>\n",
       "    </tr>\n",
       "    <tr>\n",
       "      <th>1</th>\n",
       "      <td>MRFATSTIVK VALLLSSLCV DAAVMWNRDT SSTDLEARAS SG...</td>\n",
       "      <td>46511426.0</td>\n",
       "      <td>0.0</td>\n",
       "    </tr>\n",
       "    <tr>\n",
       "      <th>2</th>\n",
       "      <td>MRFATSTIVK VALLLSSLCV DAAVMWNRDT SSTDLEARAS SG...</td>\n",
       "      <td>46511426.0</td>\n",
       "      <td>0.0</td>\n",
       "    </tr>\n",
       "    <tr>\n",
       "      <th>3</th>\n",
       "      <td>MRFATSTIVK VALLLSSLCV DAAVMWNRDT SSTDLEARAS SG...</td>\n",
       "      <td>46511426.0</td>\n",
       "      <td>0.0</td>\n",
       "    </tr>\n",
       "    <tr>\n",
       "      <th>4</th>\n",
       "      <td>MRFATSTIVK VALLLSSLCV DAAVMWNRDT SSTDLEARAS SG...</td>\n",
       "      <td>46511426.0</td>\n",
       "      <td>0.0</td>\n",
       "    </tr>\n",
       "  </tbody>\n",
       "</table>\n",
       "</div>"
      ],
      "text/plain": [
       "                                         protein_seq  ligand_cid   kd\n",
       "0  MVRSVAWAGFMVLLMIPWGSAAKLVCYFTNWAQYRQGEARFLPKDL...  46511426.0  0.0\n",
       "1  MRFATSTIVK VALLLSSLCV DAAVMWNRDT SSTDLEARAS SG...  46511426.0  0.0\n",
       "2  MRFATSTIVK VALLLSSLCV DAAVMWNRDT SSTDLEARAS SG...  46511426.0  0.0\n",
       "3  MRFATSTIVK VALLLSSLCV DAAVMWNRDT SSTDLEARAS SG...  46511426.0  0.0\n",
       "4  MRFATSTIVK VALLLSSLCV DAAVMWNRDT SSTDLEARAS SG...  46511426.0  0.0"
      ]
     },
     "execution_count": 2,
     "metadata": {},
     "output_type": "execute_result"
    }
   ],
   "source": [
    "df = pd.read_csv('df_clean.csv')\n",
    "df.head()"
   ]
  },
  {
   "cell_type": "code",
   "execution_count": 3,
   "id": "1905977f",
   "metadata": {},
   "outputs": [],
   "source": [
    "def cid_to_smile(cid):\n",
    "    '''uses ligand cid and returns smile string'''\n",
    "    try:\n",
    "        c = pcp.Compound.from_cid(int(cid))\n",
    "        return c.isomeric_smiles\n",
    "    except:\n",
    "        return np.nan"
   ]
  },
  {
   "cell_type": "code",
   "execution_count": 4,
   "id": "16159405",
   "metadata": {},
   "outputs": [
    {
     "name": "stdout",
     "output_type": "stream",
     "text": [
      "C1=CC=C(C(=C1)C#N)C2=CC=C(C=C2)COC(=O)CN3C(=O)C4=CC=CC=C4C3=O\n"
     ]
    }
   ],
   "source": [
    "c = pcp.Compound.from_cid(46511426) # its a test\n",
    "print(c.isomeric_smiles)"
   ]
  },
  {
   "cell_type": "code",
   "execution_count": null,
   "id": "ec791f37",
   "metadata": {},
   "outputs": [],
   "source": [
    "df['ligand_smile'] = df['ligand_cid'].apply(cid_to_smile)\n",
    "df.head()"
   ]
  },
  {
   "cell_type": "code",
   "execution_count": null,
   "id": "db8e851b",
   "metadata": {},
   "outputs": [],
   "source": [
    "df.info()"
   ]
  },
  {
   "cell_type": "code",
   "execution_count": null,
   "id": "1a0646db",
   "metadata": {},
   "outputs": [],
   "source": [
    "df.to_csv('prot_lig_aff.csv', index = False)"
   ]
  },
  {
   "cell_type": "code",
   "execution_count": 19,
   "id": "d6ae1ce2",
   "metadata": {},
   "outputs": [],
   "source": [
    "# one very important observation here is that not all of the cid values listed are identified. It needs further investigation.\n",
    "# what could be the possible reasons for it? I can think of a couple."
   ]
  },
  {
   "cell_type": "code",
   "execution_count": null,
   "id": "f11aedb9",
   "metadata": {},
   "outputs": [],
   "source": []
  }
 ],
 "metadata": {
  "kernelspec": {
   "display_name": "Python 3 (ipykernel)",
   "language": "python",
   "name": "python3"
  },
  "language_info": {
   "codemirror_mode": {
    "name": "ipython",
    "version": 3
   },
   "file_extension": ".py",
   "mimetype": "text/x-python",
   "name": "python",
   "nbconvert_exporter": "python",
   "pygments_lexer": "ipython3",
   "version": "3.9.16"
  }
 },
 "nbformat": 4,
 "nbformat_minor": 5
}
