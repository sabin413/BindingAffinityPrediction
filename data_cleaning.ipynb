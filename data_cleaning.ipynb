{
 "cells": [
  {
   "cell_type": "markdown",
   "id": "65e2f27a",
   "metadata": {},
   "source": [
    "#### Here I inspetct the raw dataframe, clean it, and analyze it"
   ]
  },
  {
   "cell_type": "code",
   "execution_count": 1,
   "id": "e553f2b9",
   "metadata": {},
   "outputs": [],
   "source": [
    "import pandas as pd\n",
    "import matplotlib.pyplot as plt\n",
    "import seaborn as sns"
   ]
  },
  {
   "cell_type": "code",
   "execution_count": 2,
   "id": "1a20d5b1",
   "metadata": {},
   "outputs": [],
   "source": [
    "df = pd.read_csv('df_raw.csv')"
   ]
  },
  {
   "cell_type": "code",
   "execution_count": 3,
   "id": "69dfed21",
   "metadata": {},
   "outputs": [],
   "source": [
    "# inspect it"
   ]
  },
  {
   "cell_type": "code",
   "execution_count": 4,
   "id": "cd2969fe",
   "metadata": {},
   "outputs": [
    {
     "name": "stdout",
     "output_type": "stream",
     "text": [
      "<class 'pandas.core.frame.DataFrame'>\n",
      "RangeIndex: 1334795 entries, 0 to 1334794\n",
      "Data columns (total 4 columns):\n",
      " #   Column           Non-Null Count    Dtype  \n",
      "---  ------           --------------    -----  \n",
      " 0   kd               22552 non-null    float64\n",
      " 1   ligand_cid       1301011 non-null  float64\n",
      " 2   no_of_complexes  1334795 non-null  int64  \n",
      " 3   protein_seq      1334686 non-null  object \n",
      "dtypes: float64(2), int64(1), object(1)\n",
      "memory usage: 40.7+ MB\n"
     ]
    }
   ],
   "source": [
    "df.info()"
   ]
  },
  {
   "cell_type": "code",
   "execution_count": 5,
   "id": "5d43053d",
   "metadata": {},
   "outputs": [
    {
     "data": {
      "text/plain": [
       "kd                 1312243\n",
       "ligand_cid           33784\n",
       "no_of_complexes          0\n",
       "protein_seq            109\n",
       "dtype: int64"
      ]
     },
     "execution_count": 5,
     "metadata": {},
     "output_type": "execute_result"
    }
   ],
   "source": [
    "df.isnull().sum()"
   ]
  },
  {
   "cell_type": "code",
   "execution_count": 6,
   "id": "cf05ba3f",
   "metadata": {},
   "outputs": [],
   "source": [
    "# too many null elements in the column \"kd\""
   ]
  },
  {
   "cell_type": "code",
   "execution_count": 7,
   "id": "c5c81ed3",
   "metadata": {},
   "outputs": [],
   "source": [
    "# checking the number of unique values"
   ]
  },
  {
   "cell_type": "code",
   "execution_count": 8,
   "id": "df5be273",
   "metadata": {},
   "outputs": [
    {
     "name": "stdout",
     "output_type": "stream",
     "text": [
      "618990\n",
      "5330\n",
      "[ 1  2  3  4  5  9 11  8  6 14 19 12  7]\n"
     ]
    }
   ],
   "source": [
    "print(len(df[\"ligand_cid\"].unique()))\n",
    "print(len(df[\"protein_seq\"].unique()))\n",
    "print(df[\"no_of_complexes\"].unique())"
   ]
  },
  {
   "cell_type": "code",
   "execution_count": 9,
   "id": "ba66c0cf",
   "metadata": {},
   "outputs": [],
   "source": [
    "# looks as expected. But, we do not want the multiple complexes. So, we will remove them too includig the null entries.\n",
    "\n",
    "df = df.dropna().reset_index(drop = True)\n",
    "\n",
    "df_single_complex = df[df[\"no_of_complexes\"]==1].reset_index(drop = True)\n",
    "df_filtered = df_single_complex[[\"protein_seq\", \"ligand_cid\", \"kd\"]]"
   ]
  },
  {
   "cell_type": "code",
   "execution_count": 10,
   "id": "429df73b",
   "metadata": {},
   "outputs": [
    {
     "name": "stdout",
     "output_type": "stream",
     "text": [
      "<class 'pandas.core.frame.DataFrame'>\n",
      "RangeIndex: 21879 entries, 0 to 21878\n",
      "Data columns (total 3 columns):\n",
      " #   Column       Non-Null Count  Dtype  \n",
      "---  ------       --------------  -----  \n",
      " 0   protein_seq  21879 non-null  object \n",
      " 1   ligand_cid   21879 non-null  float64\n",
      " 2   kd           21879 non-null  float64\n",
      "dtypes: float64(2), object(1)\n",
      "memory usage: 512.9+ KB\n"
     ]
    },
    {
     "data": {
      "text/html": [
       "<div>\n",
       "<style scoped>\n",
       "    .dataframe tbody tr th:only-of-type {\n",
       "        vertical-align: middle;\n",
       "    }\n",
       "\n",
       "    .dataframe tbody tr th {\n",
       "        vertical-align: top;\n",
       "    }\n",
       "\n",
       "    .dataframe thead th {\n",
       "        text-align: right;\n",
       "    }\n",
       "</style>\n",
       "<table border=\"1\" class=\"dataframe\">\n",
       "  <thead>\n",
       "    <tr style=\"text-align: right;\">\n",
       "      <th></th>\n",
       "      <th>protein_seq</th>\n",
       "      <th>ligand_cid</th>\n",
       "      <th>kd</th>\n",
       "    </tr>\n",
       "  </thead>\n",
       "  <tbody>\n",
       "    <tr>\n",
       "      <th>0</th>\n",
       "      <td>MVRSVAWAGFMVLLMIPWGSAAKLVCYFTNWAQYRQGEARFLPKDL...</td>\n",
       "      <td>46511426.0</td>\n",
       "      <td>43000.0</td>\n",
       "    </tr>\n",
       "    <tr>\n",
       "      <th>1</th>\n",
       "      <td>MRFATSTIVK VALLLSSLCV DAAVMWNRDT SSTDLEARAS SG...</td>\n",
       "      <td>46511426.0</td>\n",
       "      <td>77000.0</td>\n",
       "    </tr>\n",
       "    <tr>\n",
       "      <th>2</th>\n",
       "      <td>MRFATSTIVK VALLLSSLCV DAAVMWNRDT SSTDLEARAS SG...</td>\n",
       "      <td>46511426.0</td>\n",
       "      <td>100000.0</td>\n",
       "    </tr>\n",
       "    <tr>\n",
       "      <th>3</th>\n",
       "      <td>MRFATSTIVK VALLLSSLCV DAAVMWNRDT SSTDLEARAS SG...</td>\n",
       "      <td>46511426.0</td>\n",
       "      <td>62000.0</td>\n",
       "    </tr>\n",
       "    <tr>\n",
       "      <th>4</th>\n",
       "      <td>MRFATSTIVK VALLLSSLCV DAAVMWNRDT SSTDLEARAS SG...</td>\n",
       "      <td>46511426.0</td>\n",
       "      <td>45000.0</td>\n",
       "    </tr>\n",
       "  </tbody>\n",
       "</table>\n",
       "</div>"
      ],
      "text/plain": [
       "                                         protein_seq  ligand_cid        kd\n",
       "0  MVRSVAWAGFMVLLMIPWGSAAKLVCYFTNWAQYRQGEARFLPKDL...  46511426.0   43000.0\n",
       "1  MRFATSTIVK VALLLSSLCV DAAVMWNRDT SSTDLEARAS SG...  46511426.0   77000.0\n",
       "2  MRFATSTIVK VALLLSSLCV DAAVMWNRDT SSTDLEARAS SG...  46511426.0  100000.0\n",
       "3  MRFATSTIVK VALLLSSLCV DAAVMWNRDT SSTDLEARAS SG...  46511426.0   62000.0\n",
       "4  MRFATSTIVK VALLLSSLCV DAAVMWNRDT SSTDLEARAS SG...  46511426.0   45000.0"
      ]
     },
     "execution_count": 10,
     "metadata": {},
     "output_type": "execute_result"
    }
   ],
   "source": [
    "df_filtered.info()\n",
    "df_filtered.head()"
   ]
  },
  {
   "cell_type": "code",
   "execution_count": 11,
   "id": "d3e5070e",
   "metadata": {},
   "outputs": [
    {
     "name": "stdout",
     "output_type": "stream",
     "text": [
      "8136\n",
      "1412\n"
     ]
    }
   ],
   "source": [
    "print(len(df_filtered[\"ligand_cid\"].unique()))\n",
    "print(len(df_filtered[\"protein_seq\"].unique()))"
   ]
  },
  {
   "cell_type": "code",
   "execution_count": 12,
   "id": "c45ac161",
   "metadata": {},
   "outputs": [],
   "source": [
    "# Quick analysis of columns - lets check the kd values.\n",
    "# Also, look at 'value_counts' for the two feature columns to get a sense of data uniformity. i.e. whether or not there are \n",
    "# some proteins and lignads that dominate the data"
   ]
  },
  {
   "cell_type": "code",
   "execution_count": 13,
   "id": "8ff54c71",
   "metadata": {},
   "outputs": [
    {
     "data": {
      "text/plain": [
       "kd\n",
       "0.6           1083\n",
       "5.5            729\n",
       "0.3            430\n",
       "375.0          272\n",
       "750.0          191\n",
       "              ... \n",
       "6270.0           1\n",
       "18910000.0       1\n",
       "4550.0           1\n",
       "74920.0          1\n",
       "3300000.0        1\n",
       "Name: count, Length: 2449, dtype: int64"
      ]
     },
     "execution_count": 13,
     "metadata": {},
     "output_type": "execute_result"
    }
   ],
   "source": [
    "df_filtered['kd'].value_counts()"
   ]
  },
  {
   "cell_type": "code",
   "execution_count": 14,
   "id": "b59b11f1",
   "metadata": {},
   "outputs": [
    {
     "data": {
      "text/html": [
       "<div>\n",
       "<style scoped>\n",
       "    .dataframe tbody tr th:only-of-type {\n",
       "        vertical-align: middle;\n",
       "    }\n",
       "\n",
       "    .dataframe tbody tr th {\n",
       "        vertical-align: top;\n",
       "    }\n",
       "\n",
       "    .dataframe thead th {\n",
       "        text-align: right;\n",
       "    }\n",
       "</style>\n",
       "<table border=\"1\" class=\"dataframe\">\n",
       "  <thead>\n",
       "    <tr style=\"text-align: right;\">\n",
       "      <th></th>\n",
       "      <th>protein_seq</th>\n",
       "      <th>ligand_cid</th>\n",
       "      <th>kd</th>\n",
       "    </tr>\n",
       "  </thead>\n",
       "  <tbody>\n",
       "    <tr>\n",
       "      <th>0</th>\n",
       "      <td>MVRSVAWAGFMVLLMIPWGSAAKLVCYFTNWAQYRQGEARFLPKDL...</td>\n",
       "      <td>46511426.0</td>\n",
       "      <td>0.0</td>\n",
       "    </tr>\n",
       "    <tr>\n",
       "      <th>1</th>\n",
       "      <td>MRFATSTIVK VALLLSSLCV DAAVMWNRDT SSTDLEARAS SG...</td>\n",
       "      <td>46511426.0</td>\n",
       "      <td>0.0</td>\n",
       "    </tr>\n",
       "    <tr>\n",
       "      <th>2</th>\n",
       "      <td>MRFATSTIVK VALLLSSLCV DAAVMWNRDT SSTDLEARAS SG...</td>\n",
       "      <td>46511426.0</td>\n",
       "      <td>0.0</td>\n",
       "    </tr>\n",
       "    <tr>\n",
       "      <th>3</th>\n",
       "      <td>MRFATSTIVK VALLLSSLCV DAAVMWNRDT SSTDLEARAS SG...</td>\n",
       "      <td>46511426.0</td>\n",
       "      <td>0.0</td>\n",
       "    </tr>\n",
       "    <tr>\n",
       "      <th>4</th>\n",
       "      <td>MRFATSTIVK VALLLSSLCV DAAVMWNRDT SSTDLEARAS SG...</td>\n",
       "      <td>46511426.0</td>\n",
       "      <td>0.0</td>\n",
       "    </tr>\n",
       "    <tr>\n",
       "      <th>...</th>\n",
       "      <td>...</td>\n",
       "      <td>...</td>\n",
       "      <td>...</td>\n",
       "    </tr>\n",
       "    <tr>\n",
       "      <th>21874</th>\n",
       "      <td>MGCGCSSHPEDDWMENIDVCENCHYPIVPLDGKGTLLIRNGSEVRD...</td>\n",
       "      <td>104037439.0</td>\n",
       "      <td>0.0</td>\n",
       "    </tr>\n",
       "    <tr>\n",
       "      <th>21875</th>\n",
       "      <td>MGCGCSSHPEDDWMENIDVCENCHYPIVPLDGKGTLLIRNGSEVRD...</td>\n",
       "      <td>103967460.0</td>\n",
       "      <td>0.0</td>\n",
       "    </tr>\n",
       "    <tr>\n",
       "      <th>21876</th>\n",
       "      <td>MGCGCSSHPEDDWMENIDVCENCHYPIVPLDGKGTLLIRNGSEVRD...</td>\n",
       "      <td>103967468.0</td>\n",
       "      <td>0.0</td>\n",
       "    </tr>\n",
       "    <tr>\n",
       "      <th>21877</th>\n",
       "      <td>MGCGCSSHPEDDWMENIDVCENCHYPIVPLDGKGTLLIRNGSEVRD...</td>\n",
       "      <td>103970006.0</td>\n",
       "      <td>0.0</td>\n",
       "    </tr>\n",
       "    <tr>\n",
       "      <th>21878</th>\n",
       "      <td>MGCGCSSHPEDDWMENIDVCENCHYPIVPLDGKGTLLIRNGSEVRD...</td>\n",
       "      <td>104037440.0</td>\n",
       "      <td>0.0</td>\n",
       "    </tr>\n",
       "  </tbody>\n",
       "</table>\n",
       "<p>21879 rows × 3 columns</p>\n",
       "</div>"
      ],
      "text/plain": [
       "                                             protein_seq   ligand_cid   kd\n",
       "0      MVRSVAWAGFMVLLMIPWGSAAKLVCYFTNWAQYRQGEARFLPKDL...   46511426.0  0.0\n",
       "1      MRFATSTIVK VALLLSSLCV DAAVMWNRDT SSTDLEARAS SG...   46511426.0  0.0\n",
       "2      MRFATSTIVK VALLLSSLCV DAAVMWNRDT SSTDLEARAS SG...   46511426.0  0.0\n",
       "3      MRFATSTIVK VALLLSSLCV DAAVMWNRDT SSTDLEARAS SG...   46511426.0  0.0\n",
       "4      MRFATSTIVK VALLLSSLCV DAAVMWNRDT SSTDLEARAS SG...   46511426.0  0.0\n",
       "...                                                  ...          ...  ...\n",
       "21874  MGCGCSSHPEDDWMENIDVCENCHYPIVPLDGKGTLLIRNGSEVRD...  104037439.0  0.0\n",
       "21875  MGCGCSSHPEDDWMENIDVCENCHYPIVPLDGKGTLLIRNGSEVRD...  103967460.0  0.0\n",
       "21876  MGCGCSSHPEDDWMENIDVCENCHYPIVPLDGKGTLLIRNGSEVRD...  103967468.0  0.0\n",
       "21877  MGCGCSSHPEDDWMENIDVCENCHYPIVPLDGKGTLLIRNGSEVRD...  103970006.0  0.0\n",
       "21878  MGCGCSSHPEDDWMENIDVCENCHYPIVPLDGKGTLLIRNGSEVRD...  104037440.0  0.0\n",
       "\n",
       "[21879 rows x 3 columns]"
      ]
     },
     "execution_count": 14,
     "metadata": {},
     "output_type": "execute_result"
    }
   ],
   "source": [
    "# The above histogram is useless as the dataframe seems to have a few extremely large values. The unusually large\n",
    "# kd values are not reliable, so \n",
    "df_filtered.loc[:, 'kd'] = df_filtered['kd'].apply(lambda x: 1 if x < 100 else 0)\n",
    "df_filtered"
   ]
  },
  {
   "cell_type": "code",
   "execution_count": 15,
   "id": "1662c583",
   "metadata": {},
   "outputs": [
    {
     "data": {
      "text/plain": [
       "kd\n",
       "1.0    11117\n",
       "0.0    10762\n",
       "Name: count, dtype: int64"
      ]
     },
     "execution_count": 15,
     "metadata": {},
     "output_type": "execute_result"
    }
   ],
   "source": [
    "df_filtered['kd'].value_counts()"
   ]
  },
  {
   "cell_type": "code",
   "execution_count": 16,
   "id": "ad4945c7",
   "metadata": {},
   "outputs": [
    {
     "data": {
      "image/png": "[encoded data removed]",
      "text/plain": [
       "<Figure size 1000x600 with 1 Axes>"
      ]
     },
     "metadata": {},
     "output_type": "display_data"
    }
   ],
   "source": [
    "value_counts = df_filtered['protein_seq'].value_counts()\n",
    "\n",
    "plt.figure(figsize=(10, 6))\n",
    "plt.plot(value_counts.values, marker='.')\n",
    "plt.title('Counts of Protein Sequences')\n",
    "plt.xlabel('Index')\n",
    "plt.ylabel('Counts')\n",
    "plt.xlim(-2, 400)\n",
    "plt.grid(True)\n",
    "plt.show()"
   ]
  },
  {
   "cell_type": "code",
   "execution_count": 17,
   "id": "f8832d38",
   "metadata": {},
   "outputs": [
    {
     "data": {
      "image/png": "[encoded data removed]",
      "text/plain": [
       "<Figure size 1000x600 with 1 Axes>"
      ]
     },
     "metadata": {},
     "output_type": "display_data"
    }
   ],
   "source": [
    "value_counts = df_filtered['ligand_cid'].value_counts()\n",
    "\n",
    "plt.figure(figsize=(10, 6))\n",
    "plt.plot(value_counts.values, marker = '.')\n",
    "plt.title('Counts of ligand')\n",
    "plt.xlabel('Index')\n",
    "plt.ylabel('Counts')\n",
    "plt.xlim(-2, 400)\n",
    "plt.grid(True)\n",
    "plt.show()"
   ]
  },
  {
   "cell_type": "code",
   "execution_count": 18,
   "id": "b510d8d8",
   "metadata": {},
   "outputs": [
    {
     "data": {
      "image/png": "[encoded data removed]",
      "text/plain": [
       "<Figure size 1000x600 with 1 Axes>"
      ]
     },
     "metadata": {},
     "output_type": "display_data"
    },
    {
     "name": "stdout",
     "output_type": "stream",
     "text": [
      "Bin edges: [1.00000e+00 7.19500e+01 1.42900e+02 2.13850e+02 2.84800e+02 3.55750e+02\n",
      " 4.26700e+02 4.97650e+02 5.68600e+02 6.39550e+02 7.10500e+02 7.81450e+02\n",
      " 8.52400e+02 9.23350e+02 9.94300e+02 1.06525e+03 1.13620e+03 1.20715e+03\n",
      " 1.27810e+03 1.34905e+03 1.42000e+03 1.49095e+03 1.56190e+03 1.63285e+03\n",
      " 1.70380e+03 1.77475e+03 1.84570e+03 1.91665e+03 1.98760e+03 2.05855e+03\n",
      " 2.12950e+03 2.20045e+03 2.27140e+03 2.34235e+03 2.41330e+03 2.48425e+03\n",
      " 2.55520e+03 2.62615e+03 2.69710e+03 2.76805e+03 2.83900e+03 2.90995e+03\n",
      " 2.98090e+03 3.05185e+03 3.12280e+03 3.19375e+03 3.26470e+03 3.33565e+03\n",
      " 3.40660e+03 3.47755e+03 3.54850e+03 3.61945e+03 3.69040e+03 3.76135e+03\n",
      " 3.83230e+03 3.90325e+03 3.97420e+03 4.04515e+03 4.11610e+03 4.18705e+03\n",
      " 4.25800e+03 4.32895e+03 4.39990e+03 4.47085e+03 4.54180e+03 4.61275e+03\n",
      " 4.68370e+03 4.75465e+03 4.82560e+03 4.89655e+03 4.96750e+03 5.03845e+03\n",
      " 5.10940e+03 5.18035e+03 5.25130e+03 5.32225e+03 5.39320e+03 5.46415e+03\n",
      " 5.53510e+03 5.60605e+03 5.67700e+03 5.74795e+03 5.81890e+03 5.88985e+03\n",
      " 5.96080e+03 6.03175e+03 6.10270e+03 6.17365e+03 6.24460e+03 6.31555e+03\n",
      " 6.38650e+03 6.45745e+03 6.52840e+03 6.59935e+03 6.67030e+03 6.74125e+03\n",
      " 6.81220e+03 6.88315e+03 6.95410e+03 7.02505e+03 7.09600e+03]\n",
      "Counts: [6.078e+03 3.500e+02 6.200e+02 7.790e+02 1.186e+03 1.913e+03 2.189e+03\n",
      " 9.310e+02 7.130e+02 5.930e+02 9.130e+02 5.800e+02 3.450e+02 8.110e+02\n",
      " 5.090e+02 1.265e+03 1.940e+02 6.910e+02 1.680e+02 3.760e+02 7.900e+01\n",
      " 4.900e+01 5.100e+01 1.300e+02 2.000e+01 2.000e+00 6.700e+01 3.000e+00\n",
      " 2.200e+01 0.000e+00 1.000e+00 1.000e+00 0.000e+00 2.300e+01 9.000e+00\n",
      " 1.180e+02 0.000e+00 3.000e+00 7.000e+00 0.000e+00 0.000e+00 0.000e+00\n",
      " 0.000e+00 0.000e+00 0.000e+00 0.000e+00 0.000e+00 3.000e+00 0.000e+00\n",
      " 0.000e+00 0.000e+00 0.000e+00 0.000e+00 0.000e+00 0.000e+00 0.000e+00\n",
      " 0.000e+00 0.000e+00 1.000e+00 0.000e+00 0.000e+00 1.000e+00 0.000e+00\n",
      " 0.000e+00 0.000e+00 0.000e+00 0.000e+00 0.000e+00 0.000e+00 0.000e+00\n",
      " 1.000e+00 0.000e+00 0.000e+00 0.000e+00 0.000e+00 0.000e+00 0.000e+00\n",
      " 0.000e+00 0.000e+00 0.000e+00 0.000e+00 0.000e+00 0.000e+00 0.000e+00\n",
      " 0.000e+00 0.000e+00 0.000e+00 0.000e+00 0.000e+00 0.000e+00 0.000e+00\n",
      " 0.000e+00 0.000e+00 0.000e+00 0.000e+00 0.000e+00 0.000e+00 0.000e+00\n",
      " 0.000e+00 8.400e+01]\n"
     ]
    }
   ],
   "source": [
    "# Histogram for protein sequence lengths\n",
    "# Calculate the lengths of protein sequences\n",
    "sequence_lengths = df_filtered['protein_seq'].apply(len)\n",
    "\n",
    "# Plot histogram and get the bin edges and counts\n",
    "plt.figure(figsize=(10, 6))\n",
    "counts, bin_edges, patches = plt.hist(sequence_lengths, bins=100, edgecolor='k', alpha=0.7)\n",
    "plt.title('Histogram of Protein Sequence Lengths')\n",
    "plt.xlabel('Sequence Length')\n",
    "plt.ylabel('Frequency')\n",
    "plt.xlim(-100, 3000)\n",
    "plt.grid(True)\n",
    "plt.show()\n",
    "\n",
    "# Print the bins\n",
    "print(\"Bin edges:\", bin_edges)\n",
    "print(\"Counts:\", counts)"
   ]
  },
  {
   "cell_type": "markdown",
   "id": "cb8a621e",
   "metadata": {},
   "source": [
    "To summarize the above plots, the histogram shows that there are a lot of short proteins in the range of  length 45 - 90. Also, there are a few proteins and ligands that are dominating the data. It could be simply because they are most extensively studied by experimentalists. Next, some of the kd values in the raw dataframe were unphysically large, and were removed.\n",
    "So, the quality of data does not seem to be as good as I expected, but I will move forward and see what I can get in terms of building ML models. "
   ]
  },
  {
   "cell_type": "code",
   "execution_count": 19,
   "id": "f555d442",
   "metadata": {},
   "outputs": [],
   "source": [
    "df_filtered.to_csv('df_clean.csv', index = False)"
   ]
  },
  {
   "cell_type": "code",
   "execution_count": null,
   "id": "52c7b8e8",
   "metadata": {},
   "outputs": [],
   "source": []
  }
 ],
 "metadata": {
  "kernelspec": {
   "display_name": "Python 3 (ipykernel)",
   "language": "python",
   "name": "python3"
  },
  "language_info": {
   "codemirror_mode": {
    "name": "ipython",
    "version": 3
   },
   "file_extension": ".py",
   "mimetype": "text/x-python",
   "name": "python",
   "nbconvert_exporter": "python",
   "pygments_lexer": "ipython3",
   "version": "3.9.16"
  }
 },
 "nbformat": 4,
 "nbformat_minor": 5
}
